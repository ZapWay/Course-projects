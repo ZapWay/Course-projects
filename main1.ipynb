{
 "cells": [
  {
   "cell_type": "markdown",
   "metadata": {},
   "source": [
    "## Курсовая работа"
   ]
  },
  {
   "cell_type": "markdown",
   "metadata": {},
   "source": [
    "## Настройка"
   ]
  },
  {
   "cell_type": "code",
   "execution_count": null,
   "metadata": {
    "_cell_guid": "b1076dfc-b9ad-4769-8c92-a6c4dae69d19",
    "_uuid": "8f2839f25d086af736a60e9eeb907d3b93b6e0e5",
    "execution": {
     "iopub.execute_input": "2024-06-08T09:17:51.198067Z",
     "iopub.status.busy": "2024-06-08T09:17:51.197737Z",
     "iopub.status.idle": "2024-06-08T09:17:56.517965Z",
     "shell.execute_reply": "2024-06-08T09:17:56.517024Z",
     "shell.execute_reply.started": "2024-06-08T09:17:51.198041Z"
    },
    "trusted": true
   },
   "outputs": [],
   "source": [
    "import cv2\n",
    "import numpy as np\n",
    "import matplotlib.pyplot as plt\n",
    "import os\n",
    "from tqdm.notebook import tqdm\n",
    "import torch\n",
    "from torch import nn\n",
    "import torch.nn as nn\n",
    "import torch.nn.functional as F\n",
    "from glob import glob\n",
    "import torch.utils.data\n",
    "import torchvision.transforms as transforms\n",
    "from torch.autograd import Variable\n",
    "from PIL import Image\n",
    "from scipy import ndimage\n",
    "\n",
    "%matplotlib inline"
   ]
  },
  {
   "cell_type": "code",
   "execution_count": null,
   "metadata": {},
   "outputs": [],
   "source": [
    "import gc\n",
    "gc.collect()\n",
    "torch.cuda.empty_cache()"
   ]
  },
  {
   "cell_type": "markdown",
   "metadata": {},
   "source": [
    "## Извлечение данных"
   ]
  },
  {
   "cell_type": "code",
   "execution_count": null,
   "metadata": {
    "execution": {
     "iopub.execute_input": "2024-06-08T09:18:19.458577Z",
     "iopub.status.busy": "2024-06-08T09:18:19.458125Z",
     "iopub.status.idle": "2024-06-08T09:18:19.462888Z",
     "shell.execute_reply": "2024-06-08T09:18:19.461864Z",
     "shell.execute_reply.started": "2024-06-08T09:18:19.458552Z"
    },
    "trusted": true
   },
   "outputs": [],
   "source": [
    "images_folder = \"../data/archive/Semantic segmentation dataset\""
   ]
  },
  {
   "cell_type": "code",
   "execution_count": null,
   "metadata": {
    "execution": {
     "iopub.execute_input": "2024-06-08T09:18:26.458736Z",
     "iopub.status.busy": "2024-06-08T09:18:26.458051Z",
     "iopub.status.idle": "2024-06-08T09:18:26.476229Z",
     "shell.execute_reply": "2024-06-08T09:18:26.474969Z",
     "shell.execute_reply.started": "2024-06-08T09:18:26.458709Z"
    },
    "trusted": true
   },
   "outputs": [],
   "source": [
    "class AerialImageDataset(torch.utils.data.Dataset):\n",
    "    def __init__(self, root, training, transforms=None):\n",
    "        super(AerialImageDataset, self).__init__()\n",
    "        self.file_root = root\n",
    "        self.is_training = training\n",
    "        self.tranforms = transforms\n",
    "        self.IMG_NAMES = sorted(glob(self.file_root + '/*/images/*.jpg'))\n",
    "        # Объявление маск классов\n",
    "        self.RGB_classes = {'Water': [226, 169, 41],\n",
    "                            'Land': [132, 41, 246],\n",
    "                            'Road': [110, 193, 228],\n",
    "                            'Building': [60, 16, 152],\n",
    "                            'Vegetation': [254, 221, 58],\n",
    "                            'Unlabeled': [155, 155, 155]}\n",
    "        self.bin_classes = list(self.RGB_classes.keys())\n",
    "\n",
    "\n",
    "    # преобразует rgb маску в инлексы классов\n",
    "    def rgb_to_class(self, mask):\n",
    "        class_mask = np.zeros(mask.shape[:2], dtype=int)\n",
    "        for label, rgb in self.RGB_classes.items():\n",
    "            class_mask[(mask == rgb).all(axis=2)] = self.bin_classes.index(label)\n",
    "        return class_mask\n",
    "\n",
    "    def __getitem__(self, idx):\n",
    "        img_path = self.IMG_NAMES[idx]\n",
    "        mask_path = img_path.replace('images', 'masks').replace('.jpg', '.png')\n",
    "        image = cv2.imread(img_path)\n",
    "        image = cv2.cvtColor(image, cv2.COLOR_BGR2RGB) \n",
    "        mask = cv2.imread(mask_path)\n",
    "        mask = cv2.cvtColor(mask, cv2.COLOR_BGR2RGB)\n",
    "        image_mask = self.rgb_to_class(mask) \n",
    "\n",
    "        # Применение преобразований данных(поворот, отражения, прмменение трансофрмаций)\n",
    "        if self.is_training:\n",
    "            if self.tranforms:\n",
    "                image = Image.fromarray(image)\n",
    "                image = self.tranforms(image)\n",
    "                image = np.array(image)\n",
    "            if np.random.rand() < 0.5:\n",
    "                angle = np.random.randint(4) * 90\n",
    "                image = ndimage.rotate(image, angle, reshape=True)\n",
    "                image_mask = ndimage.rotate(image_mask, angle, reshape=True)\n",
    "            if np.random.rand() < 0.5:\n",
    "                image = np.flip(image, 0)\n",
    "                image_mask = np.flip(image_mask, 0)\n",
    "            if np.random.rand() < 0.5:\n",
    "                image = np.flip(image, 1)\n",
    "                image_mask = np.flip(image_mask, 1)\n",
    "        \n",
    "        image = cv2.resize(image, (512, 512)) / 255.0\n",
    "        image_mask = cv2.resize(image_mask.astype(np.uint8), (512, 512), interpolation=cv2.INTER_NEAREST)\n",
    "        image = np.moveaxis(image, -1, 0)\n",
    "        return torch.tensor(image).float(), torch.tensor(image_mask, dtype=torch.int64)\n",
    "\n",
    "\n",
    "    # возвращает размер датасета\n",
    "    def __len__(self):\n",
    "        return len(self.IMG_NAMES)\n"
   ]
  },
  {
   "cell_type": "markdown",
   "metadata": {},
   "source": [
    "## Подготовка данных"
   ]
  },
  {
   "cell_type": "code",
   "execution_count": null,
   "metadata": {
    "execution": {
     "iopub.execute_input": "2024-06-08T09:18:52.238931Z",
     "iopub.status.busy": "2024-06-08T09:18:52.238013Z",
     "iopub.status.idle": "2024-06-08T09:18:52.338922Z",
     "shell.execute_reply": "2024-06-08T09:18:52.337836Z",
     "shell.execute_reply.started": "2024-06-08T09:18:52.238899Z"
    },
    "trusted": true
   },
   "outputs": [],
   "source": [
    "color_shift = transforms.ColorJitter(.1,.1,.1,.1)\n",
    "blurriness = transforms.GaussianBlur(3, sigma=(0.1, 2.0))\n",
    "t = transforms.Compose([color_shift, blurriness])\n",
    "dataset = AerialImageDataset(images_folder, training = True, transforms= t)\n",
    "print(f\"Len: {len(dataset)}\")"
   ]
  },
  {
   "cell_type": "markdown",
   "metadata": {},
   "source": [
    "### Прмер изображений и их масок"
   ]
  },
  {
   "cell_type": "code",
   "execution_count": null,
   "metadata": {},
   "outputs": [],
   "source": [
    "d = dataset[4]\n",
    "plt.figure(figsize=(15,15))\n",
    "plt.subplot(1,2,1)\n",
    "# оригинальное изображение\n",
    "plt.imshow(np.moveaxis(d[0].numpy(),0,-1)) \n",
    "plt.subplot(1,2,2)\n",
    "color_mask = np.zeros((d[1].shape[0], d[1].shape[1], 3), dtype=np.uint8)\n",
    "for label, rgb in dataset.RGB_classes.items():\n",
    "    color_mask[d[1] == dataset.bin_classes.index(label)] = rgb\n",
    "plt.imshow(color_mask)\n",
    "plt.show()"
   ]
  },
  {
   "cell_type": "code",
   "execution_count": null,
   "metadata": {
    "execution": {
     "iopub.execute_input": "2024-06-08T09:19:47.212398Z",
     "iopub.status.busy": "2024-06-08T09:19:47.212067Z",
     "iopub.status.idle": "2024-06-08T09:19:47.219951Z",
     "shell.execute_reply": "2024-06-08T09:19:47.218944Z",
     "shell.execute_reply.started": "2024-06-08T09:19:47.212374Z"
    },
    "trusted": true
   },
   "outputs": [],
   "source": [
    "test_num = int(0.1 * len(dataset))\n",
    "print(f'Test size: {test_num}')\n",
    "train_dataset, test_dataset = torch.utils.data.random_split(dataset, [len(dataset)-test_num, test_num], generator=torch.Generator().manual_seed(4323245))\n",
    "BATCH_SIZE = 1\n",
    "# Инициализирует загрузчик данных для тестирования и тренировки\n",
    "test_dataloader = torch.utils.data.DataLoader(\n",
    "    test_dataset, batch_size=BATCH_SIZE, shuffle=False, num_workers=0)\n",
    "train_dataloader = torch.utils.data.DataLoader(\n",
    "    train_dataset, batch_size=BATCH_SIZE, shuffle=True, num_workers=0)"
   ]
  },
  {
   "cell_type": "code",
   "execution_count": null,
   "metadata": {
    "execution": {
     "iopub.execute_input": "2024-06-08T09:19:55.424354Z",
     "iopub.status.busy": "2024-06-08T09:19:55.423537Z",
     "iopub.status.idle": "2024-06-08T09:19:55.453999Z",
     "shell.execute_reply": "2024-06-08T09:19:55.45281Z",
     "shell.execute_reply.started": "2024-06-08T09:19:55.424315Z"
    },
    "trusted": true
   },
   "outputs": [],
   "source": [
    "def to_device(data,device):\n",
    "    if isinstance(data,(list,tuple)):\n",
    "        return [to_device(x,device) for x in data]\n",
    "    return data.to(device,non_blocking = True)\n",
    "\n",
    "def get_device():\n",
    "    if torch.cuda.is_available():\n",
    "        return torch.device('cuda')\n",
    "    return torch.device('cpu')\n",
    "    \n",
    "class DeviceDataLoader():\n",
    "    def __init__(self,dl,device):\n",
    "        self.dl = dl\n",
    "        self.device = device\n",
    "    def __iter__(self):\n",
    "        for b in self.dl:\n",
    "            yield to_device(b, self.device)\n",
    "    def __len__(self):\n",
    "        return len(self.dl)\n",
    "\n",
    "device = get_device()\n",
    "\n",
    "train_dataloader = DeviceDataLoader(train_dataloader, device)\n",
    "test_dataloader = DeviceDataLoader(test_dataloader, device)"
   ]
  },
  {
   "cell_type": "code",
   "execution_count": null,
   "metadata": {
    "execution": {
     "iopub.execute_input": "2024-06-08T09:39:44.405643Z",
     "iopub.status.busy": "2024-06-08T09:39:44.404819Z",
     "iopub.status.idle": "2024-06-08T09:39:44.411879Z",
     "shell.execute_reply": "2024-06-08T09:39:44.410833Z",
     "shell.execute_reply.started": "2024-06-08T09:39:44.405609Z"
    },
    "trusted": true
   },
   "outputs": [],
   "source": [
    "device = \"cuda\" if torch.cuda.is_available() else \"cpu\"\n",
    "print(device)"
   ]
  },
  {
   "cell_type": "markdown",
   "metadata": {},
   "source": [
    "## Модель U-Net\n"
   ]
  },
  {
   "cell_type": "code",
   "execution_count": null,
   "metadata": {
    "execution": {
     "iopub.execute_input": "2024-06-08T09:20:12.735064Z",
     "iopub.status.busy": "2024-06-08T09:20:12.734631Z",
     "iopub.status.idle": "2024-06-08T09:20:12.750565Z",
     "shell.execute_reply": "2024-06-08T09:20:12.749683Z",
     "shell.execute_reply.started": "2024-06-08T09:20:12.735032Z"
    },
    "trusted": true
   },
   "outputs": [],
   "source": [
    "# Слои нейросети, расположенный после апскейла или даунсемплинга\n",
    "class MiddleLayer(nn.Module):\n",
    "    def __init__(self, in_channels, out_channels, mid_channels=None):\n",
    "        super().__init__()\n",
    "        if not mid_channels:\n",
    "            mid_channels = out_channels\n",
    "        self.double_conv = nn.Sequential(\n",
    "            nn.Conv2d(in_channels, mid_channels, kernel_size=3, padding=1),\n",
    "            nn.BatchNorm2d(mid_channels),\n",
    "            nn.ReLU(inplace=True),\n",
    "            nn.Conv2d(mid_channels, out_channels, kernel_size=3, padding=1),\n",
    "            nn.BatchNorm2d(out_channels),\n",
    "            nn.ReLU(inplace=True)\n",
    "        )\n",
    "\n",
    "    def forward(self, x):\n",
    "        return self.double_conv(x)\n",
    "\n",
    "# Слой енкодера\n",
    "class EncoderBlock(nn.Module):\n",
    "    def __init__(self, in_channels, out_channels):\n",
    "        super().__init__()\n",
    "        self.maxpool_conv = nn.Sequential(\n",
    "            nn.MaxPool2d(2),\n",
    "            MiddleLayer(in_channels, out_channels)\n",
    "        )\n",
    "\n",
    "    def forward(self, x):\n",
    "        return self.maxpool_conv(x)\n",
    "    \n",
    "# Слой декодера\n",
    "class DecoderBlock(nn.Module):\n",
    "    def __init__(self, in_channels, out_channels, bilinear=True):\n",
    "        super().__init__()\n",
    "        if bilinear:\n",
    "            self.up = nn.Upsample(scale_factor=2, mode='bilinear', align_corners=True)\n",
    "            self.conv = MiddleLayer(in_channels, out_channels, in_channels // 2)\n",
    "        else:\n",
    "            self.up = nn.ConvTranspose2d(in_channels , in_channels // 2, kernel_size=2, stride=2)\n",
    "            self.conv = MiddleLayer(in_channels, out_channels)\n",
    "\n",
    "    def forward(self, x1, x2):\n",
    "        x1 = self.up(x1)\n",
    "        diffY = x2.size()[2] - x1.size()[2]\n",
    "        diffX = x2.size()[3] - x1.size()[3]\n",
    "        x1 = F.pad(x1, [diffX // 2, diffX - diffX // 2,\n",
    "                        diffY // 2, diffY - diffY // 2])\n",
    "        x = torch.cat([x2, x1], dim=1)\n",
    "        return self.conv(x)\n",
    "# Последний слой U-Net\n",
    "class LastConv(nn.Module):\n",
    "    def __init__(self, in_channels, out_channels):\n",
    "        super(LastConv, self).__init__()\n",
    "        self.conv = nn.Conv2d(in_channels, out_channels, kernel_size=1)\n",
    "\n",
    "    def forward(self, x):\n",
    "        return self.conv(x)"
   ]
  },
  {
   "cell_type": "code",
   "execution_count": null,
   "metadata": {
    "execution": {
     "iopub.execute_input": "2024-06-08T09:20:54.738407Z",
     "iopub.status.busy": "2024-06-08T09:20:54.73765Z",
     "iopub.status.idle": "2024-06-08T09:20:54.752621Z",
     "shell.execute_reply": "2024-06-08T09:20:54.751611Z",
     "shell.execute_reply.started": "2024-06-08T09:20:54.738371Z"
    },
    "trusted": true
   },
   "outputs": [],
   "source": [
    "class UNet(nn.Module):\n",
    "    def __init__(self, n_channels, n_classes, bilinear=True):\n",
    "        super(UNet, self).__init__()\n",
    "        self.n_channels = n_channels\n",
    "        self.n_classes = n_classes\n",
    "        self.bilinear = bilinear\n",
    "\n",
    "        self.inc = MiddleLayer(n_channels, 64, 64)\n",
    "        self.down1 = EncoderBlock(64, 128)\n",
    "        self.down2 = EncoderBlock(128, 256)\n",
    "        factor = 2 if bilinear else 1\n",
    "        self.down3 = EncoderBlock(256, 512 // factor)\n",
    "        self.down4 = EncoderBlock(512, 1024 // factor)\n",
    "        self.down5 = EncoderBlock(1024, 2048 // factor)\n",
    "\n",
    "        self.up0 = DecoderBlock(2048, 1024 // factor, bilinear)\n",
    "        self.up1 = DecoderBlock(1024, 512 // factor, bilinear)\n",
    "        self.up2 = DecoderBlock(512, 256 // factor, bilinear)\n",
    "        self.up3 = DecoderBlock(256, 128 // factor, bilinear)\n",
    "        self.up4 = DecoderBlock(128, 64, bilinear)\n",
    "        self.outc = LastConv(64, n_classes)\n",
    "\n",
    "\n",
    "    def forward(self, x):\n",
    "        x1 = self.inc(x)\n",
    "        x2 = self.down1(x1)\n",
    "        x3 = self.down2(x2)\n",
    "        x4 = self.down3(x3)\n",
    "        # x5 = self.down4(x4)\n",
    "        # x6 = self.down5(x5)\n",
    "\n",
    "        # x = self.up0(x6, x5)\n",
    "        # x = self.up1(x, x4)\n",
    "        x = self.up2(x4, x3)\n",
    "        x = self.up3(x, x2)\n",
    "        x = self.up4(x, x1)\n",
    "        logits = self.outc(x)\n",
    "        return logits"
   ]
  },
  {
   "cell_type": "markdown",
   "metadata": {},
   "source": [
    "## 4. Функции потерь"
   ]
  },
  {
   "cell_type": "code",
   "execution_count": null,
   "metadata": {
    "execution": {
     "iopub.execute_input": "2024-06-08T09:21:09.042073Z",
     "iopub.status.busy": "2024-06-08T09:21:09.041421Z",
     "iopub.status.idle": "2024-06-08T09:21:09.052991Z",
     "shell.execute_reply": "2024-06-08T09:21:09.051996Z",
     "shell.execute_reply.started": "2024-06-08T09:21:09.042041Z"
    },
    "trusted": true
   },
   "outputs": [],
   "source": [
    "class FocalLoss(nn.Module):\n",
    "    def __init__(self, gamma=0, alpha=None, size_average=True):\n",
    "        super(FocalLoss, self).__init__()\n",
    "        self.gamma = gamma\n",
    "        self.alpha = alpha\n",
    "        self.size_average = size_average\n",
    "\n",
    "    def forward(self, input, target):\n",
    "        target = target.view(-1,1)\n",
    "\n",
    "        logpt = F.log_softmax(input, dim=-1)\n",
    "        logpt = logpt.gather(1,target)\n",
    "        logpt = logpt.view(-1)\n",
    "        pt = Variable(logpt.data.exp())\n",
    "\n",
    "        # вес для каждого класса\n",
    "        if self.alpha is not None:\n",
    "            if self.alpha.type()!=input.data.type():\n",
    "                self.alpha = self.alpha.type_as(input.data)\n",
    "            at = self.alpha.gather(0,target.data.view(-1))\n",
    "            logpt = logpt * Variable(at)\n",
    "        loss = -1 * (1-pt)**self.gamma * logpt\n",
    "        if self.size_average:\n",
    "            return loss.mean()\n",
    "        else:\n",
    "            return loss.sum()"
   ]
  },
  {
   "cell_type": "code",
   "execution_count": null,
   "metadata": {},
   "outputs": [],
   "source": [
    "class DiceLoss(nn.Module):\n",
    "\n",
    "    def __init__(self, smooth=1e-5, ignore_index=None, reduction='mean'):\n",
    "        super(DiceLoss, self).__init__()\n",
    "        self.smooth = smooth\n",
    "        self.ignore_index = ignore_index\n",
    "        self.reduction = reduction\n",
    "\n",
    "    def forward(self, inputs, targets):\n",
    "        num_classes = inputs.shape[1]\n",
    "        inputs = F.softmax(inputs, dim=1)\n",
    "\n",
    "        targets_one_hot = F.one_hot(targets, num_classes=num_classes).permute(0, 3, 1, 2).float()\n",
    "\n",
    "        if self.ignore_index is not None:\n",
    "            mask = targets != self.ignore_index\n",
    "            inputs = inputs * mask.unsqueeze(1)\n",
    "            targets_one_hot = targets_one_hot * mask.unsqueeze(1).float()\n",
    "\n",
    "        intersection = torch.sum(inputs * targets_one_hot, dim=(0, 2, 3))\n",
    "        union = torch.sum(inputs + targets_one_hot, dim=(0, 2, 3))\n",
    "\n",
    "        dice_score = (2. * intersection + self.smooth) / (union + self.smooth)\n",
    "        dice_loss = 1 - dice_score\n",
    "\n",
    "        if self.reduction == 'mean':\n",
    "            return dice_loss.mean()\n",
    "        elif self.reduction == 'sum':\n",
    "            return dice_loss.sum()\n",
    "        else:\n",
    "            return dice_loss\n"
   ]
  },
  {
   "cell_type": "code",
   "execution_count": null,
   "metadata": {},
   "outputs": [],
   "source": [
    "# Инициализация функции потерь\n",
    "criterion = DiceLoss(smooth=1e-5, ignore_index=5, reduction='mean').to(device)\n",
    "# criterion = FocalLoss(gamma=3/4).to(device)"
   ]
  },
  {
   "cell_type": "markdown",
   "metadata": {},
   "source": [
    "## 5. Обучение"
   ]
  },
  {
   "cell_type": "code",
   "execution_count": null,
   "metadata": {
    "execution": {
     "iopub.execute_input": "2024-06-08T09:21:21.837061Z",
     "iopub.status.busy": "2024-06-08T09:21:21.83668Z",
     "iopub.status.idle": "2024-06-08T09:21:21.846467Z",
     "shell.execute_reply": "2024-06-08T09:21:21.845401Z",
     "shell.execute_reply.started": "2024-06-08T09:21:21.837033Z"
    },
    "trusted": true
   },
   "outputs": [],
   "source": [
    "# Функция для вычиления accuracy\n",
    "def acc(label, predicted):\n",
    "  seg_acc = (y.cpu() == torch.argmax(pred_mask, axis=1).cpu()).sum() / torch.numel(y.cpu())\n",
    "  return seg_acc\n",
    "\n",
    "# Функция для вычисления precision\n",
    "def precision(y, pred, classes = 6):\n",
    "    precision_list = [];\n",
    "    for i in range(classes):\n",
    "        # вычисляет precision для каждого класса\n",
    "        actual_num = y.cpu() == i\n",
    "        predicted_num = i == torch.argmax(pred, axis=1).cpu()\n",
    "\n",
    "        # вычисляет recall для класса i\n",
    "        prec = torch.logical_and(actual_num,predicted_num).sum()/predicted_num.sum()\n",
    "        precision_list.append(prec.numpy().tolist())\n",
    "    return precision_list\n",
    "\n",
    "# Функция для вычиления recall\n",
    "def recall(y, pred, classes = 6):\n",
    "    recall_list = []\n",
    "    for i in range(classes):\n",
    "        # вычисляет recall для каждого класса\n",
    "        actual_num = y.cpu() == i\n",
    "        predicted_num = i == torch.argmax(pred, axis=1).cpu()\n",
    "\n",
    "        # вычисляет reecall для класса i\n",
    "        recall_val = torch.logical_and(actual_num, predicted_num).sum() / actual_num.sum()\n",
    "        recall_list.append(recall_val.numpy().tolist())\n",
    "    return recall_list"
   ]
  },
  {
   "cell_type": "code",
   "execution_count": null,
   "metadata": {
    "execution": {
     "iopub.execute_input": "2024-06-08T09:21:29.14737Z",
     "iopub.status.busy": "2024-06-08T09:21:29.147007Z",
     "iopub.status.idle": "2024-06-08T09:21:30.388448Z",
     "shell.execute_reply": "2024-06-08T09:21:30.387702Z",
     "shell.execute_reply.started": "2024-06-08T09:21:29.147343Z"
    },
    "trusted": true
   },
   "outputs": [],
   "source": [
    "min_loss = torch.tensor(float('inf'))\n",
    "model = UNet(n_channels=3, n_classes=6, bilinear=False).to(device)\n",
    "optimizer = torch.optim.Adam(model.parameters(), lr=8e-4)\n",
    "lr_scheduler = torch.optim.lr_scheduler.StepLR(optimizer, step_size=1, gamma=0.5)"
   ]
  },
  {
   "cell_type": "code",
   "execution_count": null,
   "metadata": {
    "execution": {
     "iopub.execute_input": "2024-06-08T09:21:36.853583Z",
     "iopub.status.busy": "2024-06-08T09:21:36.85323Z",
     "iopub.status.idle": "2024-06-08T09:33:41.639414Z",
     "shell.execute_reply": "2024-06-08T09:33:41.638336Z",
     "shell.execute_reply.started": "2024-06-08T09:21:36.853557Z"
    },
    "trusted": true
   },
   "outputs": [],
   "source": [
    "os.makedirs('./saved_models1', exist_ok=True)\n",
    "\n",
    "N_EPOCHS = 30\n",
    "\n",
    "N_DATA = len(train_dataset)\n",
    "N_TEST = len(test_dataset)\n",
    "\n",
    "plot_losses = []\n",
    "\n",
    "counter = 0\n",
    "\n",
    "\n",
    "min_loss = float('inf')\n",
    "\n",
    "for epoch in range(N_EPOCHS):\n",
    "\n",
    "    # Training phase\n",
    "    model.train()\n",
    "    train_loss = 0\n",
    "    train_acc = 0\n",
    "    train_loop = tqdm(train_dataloader, desc=f\"Epoch [{epoch+1}/{N_EPOCHS}] Training\", leave=False)\n",
    "    for x, y in train_loop:\n",
    "        pred = model(x.to(device))\n",
    "        loss = criterion(pred, y.to(device))\n",
    "        optimizer.zero_grad()\n",
    "        loss.backward()\n",
    "        optimizer.step()\n",
    "\n",
    "        train_loss += loss.item()\n",
    "        train_acc += acc(y, pred).item()\n",
    "\n",
    "        train_loop.set_postfix(loss=loss.item())\n",
    "\n",
    "    train_loss /= len(train_dataloader)\n",
    "    train_acc /= len(train_dataloader)\n",
    "\n",
    "    # Типо валидация на трейне \n",
    "    model.eval()\n",
    "    val_loss = 0\n",
    "    val_acc = 0\n",
    "    with torch.no_grad():\n",
    "        val_loop = tqdm(test_dataloader, desc=f\"Epoch [{epoch+1}/{N_EPOCHS}] Validation\", leave=False)\n",
    "        for x, y in val_loop:\n",
    "            pred = model(x.to(device))\n",
    "            loss = criterion(pred, y.to(device))\n",
    "\n",
    "            val_loss += loss.item()\n",
    "            val_acc += acc(y, pred).item()\n",
    "            val_loop.set_postfix(loss=loss.item())\n",
    "        \n",
    "    val_loss /= len(test_dataloader)\n",
    "    val_acc /= len(test_dataloader)\n",
    "\n",
    "\n",
    "    print(f'Epoch {epoch+1}/{N_EPOCHS} - loss: {train_loss:.5f} - Acc: {train_acc:.2f} - Val Loss: {val_loss:.5f} - Val Acc: {val_acc:.2f}')\n",
    "\n",
    "    plot_losses.append([epoch, train_loss, val_loss])\n",
    "\n",
    "   \n",
    "    \n",
    "    if counter % 5 == 0:\n",
    "        torch.save(model.state_dict(), f'./saved_models1/focal/unet_small_epoch_{epoch}_{val_loss:.5f}.pt')\n",
    "    \n",
    "    \n",
    "    if counter > 5:\n",
    "        lr_scheduler.step()\n",
    "        print(f\"Lowering learning rate to {optimizer.param_groups[0]['lr']}\")\n",
    "        counter = 0\n",
    "    \n",
    "    counter += 1\n"
   ]
  },
  {
   "cell_type": "code",
   "execution_count": null,
   "metadata": {
    "execution": {
     "iopub.execute_input": "2024-06-08T09:33:54.324324Z",
     "iopub.status.busy": "2024-06-08T09:33:54.323599Z",
     "iopub.status.idle": "2024-06-08T09:33:54.608475Z",
     "shell.execute_reply": "2024-06-08T09:33:54.607499Z",
     "shell.execute_reply.started": "2024-06-08T09:33:54.32429Z"
    },
    "trusted": true
   },
   "outputs": [],
   "source": [
    "plot_losses = np.array(plot_losses)\n",
    "plt.plot(plot_losses[:,0], plot_losses[:,1], color='b', linewidth=4)\n",
    "plt.plot(plot_losses[:,0], plot_losses[:,2], color='r', linewidth=4)\n",
    "plt.title('Focal Loss', fontsize=20)\n",
    "plt.xlabel('epoch',fontsize=20)\n",
    "plt.ylabel('loss',fontsize=20)\n",
    "plt.grid()\n",
    "plt.legend(['training', 'validation'])\n",
    "plt.show()"
   ]
  },
  {
   "cell_type": "markdown",
   "metadata": {},
   "source": [
    "## 6. Тестирование"
   ]
  },
  {
   "cell_type": "code",
   "execution_count": null,
   "metadata": {},
   "outputs": [],
   "source": [
    "for batch_i, (x, y) in enumerate(test_dataloader):\n",
    "    for j in range(len(x)):\n",
    "        result = model(x[j:j+1].to(device))\n",
    "\n",
    "        # Отображение предсказанной маски\n",
    "        pred_mask = torch.argmax(result, axis=1).cpu().detach().numpy()[0]\n",
    "        color_pred_mask = np.zeros((pred_mask.shape[0], pred_mask.shape[1], 3), dtype=np.uint8)\n",
    "        for label, bgr in dataset.RGB_classes.items():\n",
    "            color_pred_mask[pred_mask == dataset.bin_classes.index(label)] = bgr\n",
    "\n",
    "        # Истинная маска\n",
    "        gt_mask = y[j].cpu().numpy()\n",
    "        color_gt_mask = np.zeros((gt_mask.shape[0], gt_mask.shape[1], 3), dtype=np.uint8)\n",
    "        for label, bgr in dataset.RGB_classes.items():\n",
    "            color_gt_mask[gt_mask == dataset.bin_classes.index(label)] = bgr\n",
    "        \n",
    "        # Входное изображение\n",
    "        im = np.moveaxis(x[j].cpu().detach().numpy(), 0, -1).copy() * 255\n",
    "        im = im.astype(np.uint8) \n",
    "\n",
    "        # Отобрадение изображений\n",
    "        plt.figure(figsize=(18, 6))\n",
    "        plt.subplot(1, 3, 1)\n",
    "        plt.title(\"Изображение\")\n",
    "        plt.imshow(im)\n",
    "\n",
    "        plt.subplot(1, 3, 2)\n",
    "        plt.title(\"Истинная маска\")\n",
    "        plt.imshow(color_gt_mask)\n",
    "\n",
    "        plt.subplot(1, 3, 3)\n",
    "        plt.title(\"Предсказанная маска\")\n",
    "        plt.imshow(color_pred_mask)\n",
    "        plt.show()"
   ]
  },
  {
   "cell_type": "code",
   "execution_count": null,
   "metadata": {
    "execution": {
     "iopub.execute_input": "2024-06-08T09:34:26.174912Z",
     "iopub.status.busy": "2024-06-08T09:34:26.17396Z",
     "iopub.status.idle": "2024-06-08T09:34:30.059262Z",
     "shell.execute_reply": "2024-06-08T09:34:30.058437Z",
     "shell.execute_reply.started": "2024-06-08T09:34:26.174871Z"
    },
    "trusted": true
   },
   "outputs": [],
   "source": [
    "pred_list = []\n",
    "gt_list = []\n",
    "precision_list = []\n",
    "recall_list = []\n",
    "\n",
    "for batch_i, (x, y) in enumerate(test_dataloader):\n",
    "    for j in range(len(x)):\n",
    "        \n",
    "\n",
    "        # Получает предсказхание по изображению \n",
    "        result = model(x.to(device)[j:j+1])\n",
    "\n",
    "        # Вычисляет prec и recall для кажлого изображения \n",
    "        precision_list.append(precision(y[j],result))\n",
    "        recall_list.append(recall(y[j],result))"
   ]
  },
  {
   "cell_type": "code",
   "execution_count": null,
   "metadata": {
    "execution": {
     "iopub.execute_input": "2024-06-08T09:34:38.514195Z",
     "iopub.status.busy": "2024-06-08T09:34:38.512931Z",
     "iopub.status.idle": "2024-06-08T09:34:38.520665Z",
     "shell.execute_reply": "2024-06-08T09:34:38.519568Z",
     "shell.execute_reply.started": "2024-06-08T09:34:38.514156Z"
    },
    "trusted": true
   },
   "outputs": [],
   "source": [
    "# вычисляет prec для каждого класса\n",
    "print(f\"Mean prec: {np.nanmean(precision_list,axis = 0)}\")"
   ]
  },
  {
   "cell_type": "code",
   "execution_count": null,
   "metadata": {
    "execution": {
     "iopub.execute_input": "2024-06-08T09:34:51.221797Z",
     "iopub.status.busy": "2024-06-08T09:34:51.220947Z",
     "iopub.status.idle": "2024-06-08T09:34:51.226899Z",
     "shell.execute_reply": "2024-06-08T09:34:51.225964Z",
     "shell.execute_reply.started": "2024-06-08T09:34:51.221758Z"
    },
    "trusted": true
   },
   "outputs": [],
   "source": [
    "# вычисляет recall для каждого класса\n",
    "print(f\"Mean recall: {np.nanmean(recall_list,axis = 0)}\")"
   ]
  },
  {
   "cell_type": "code",
   "execution_count": null,
   "metadata": {
    "execution": {
     "iopub.execute_input": "2024-06-08T09:34:57.31377Z",
     "iopub.status.busy": "2024-06-08T09:34:57.313411Z",
     "iopub.status.idle": "2024-06-08T09:34:57.320017Z",
     "shell.execute_reply": "2024-06-08T09:34:57.319018Z",
     "shell.execute_reply.started": "2024-06-08T09:34:57.313742Z"
    },
    "trusted": true
   },
   "outputs": [],
   "source": [
    "# вычисляет средний presicion для каждлого класса\n",
    "mean_precision = np.nanmean(precision_list,axis = 0)\n",
    "print(f\"Precision: {sum(mean_precision[:-1])/5}\")\n",
    "# вычисляет средний recall для каждого класса\n",
    "mean_recall = np.nanmean(recall_list,axis = 0)\n",
    "print(f\"Recall: {sum(mean_recall)/5}\")"
   ]
  },
  {
   "cell_type": "code",
   "execution_count": null,
   "metadata": {
    "execution": {
     "iopub.execute_input": "2024-06-08T09:35:11.278253Z",
     "iopub.status.busy": "2024-06-08T09:35:11.277523Z",
     "iopub.status.idle": "2024-06-08T09:35:17.61995Z",
     "shell.execute_reply": "2024-06-08T09:35:17.618962Z",
     "shell.execute_reply.started": "2024-06-08T09:35:11.27822Z"
    },
    "trusted": true
   },
   "outputs": [],
   "source": [
    "import numpy as np\n",
    "from sklearn.metrics import confusion_matrix\n",
    "\n",
    "def calculate_iou(confusion_matrix):\n",
    "    intersection = np.diag(confusion_matrix)\n",
    "    union = (confusion_matrix.sum(1) + confusion_matrix.sum(0)) - intersection\n",
    "    iou = intersection / union.astype(np.float32)\n",
    "    return iou.mean()\n",
    "\n",
    "def calculate_mIoU(predicted, target):\n",
    "    num_classes = max(np.max(target), np.max(predicted)) + 1\n",
    "    confusion_mat = confusion_matrix(target.flatten(), predicted.flatten(), labels=range(num_classes))\n",
    "    class_iou = calculate_iou(confusion_mat)\n",
    "    return class_iou\n",
    "\n",
    "\n",
    "model.eval()\n",
    "\n",
    "total_mIoU = 0.0\n",
    "total_batches = 0\n",
    "\n",
    "for batch_i, (x, y) in enumerate(test_dataloader):\n",
    "\n",
    "    for j in range(len(x)):\n",
    "\n",
    "        result = model(x[j:j+1])\n",
    "\n",
    "        mask = torch.argmax(result, axis=1).cpu().detach().numpy()[0]\n",
    "\n",
    "        gt_mask = y[j].cpu().numpy()\n",
    "\n",
    "        mIoU = calculate_mIoU(mask, gt_mask)\n",
    "        total_mIoU += mIoU\n",
    "        total_batches += 1\n",
    "\n",
    "# Вычисляет средний IoU по всем классам\n",
    "average_mIoU = total_mIoU / total_batches\n",
    "print(\"mIoU:\", average_mIoU)"
   ]
  }
 ],
 "metadata": {
  "kaggle": {
   "accelerator": "gpu",
   "dataSources": [
    {
     "datasetId": 681625,
     "sourceId": 1196732,
     "sourceType": "datasetVersion"
    }
   ],
   "dockerImageVersionId": 30733,
   "isGpuEnabled": true,
   "isInternetEnabled": true,
   "language": "python",
   "sourceType": "notebook"
  },
  "kernelspec": {
   "display_name": "venv",
   "language": "python",
   "name": "python3"
  },
  "language_info": {
   "codemirror_mode": {
    "name": "ipython",
    "version": 3
   },
   "file_extension": ".py",
   "mimetype": "text/x-python",
   "name": "python",
   "nbconvert_exporter": "python",
   "pygments_lexer": "ipython3",
   "version": "3.12.3"
  }
 },
 "nbformat": 4,
 "nbformat_minor": 4
}
